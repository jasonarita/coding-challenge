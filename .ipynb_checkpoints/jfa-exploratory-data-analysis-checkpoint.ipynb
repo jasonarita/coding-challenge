{
 "cells": [
  {
   "cell_type": "markdown",
   "metadata": {},
   "source": [
    "## Import JSON data file\n",
    "\n",
    "- __Read data__\n",
    "    - Test within 60-second window of maximum timestamp\n",
    "        - maybe maintain a separate list of timestamps\n",
    "        - or maybe maintain separate variable for max_timestamp\n",
    "- Prune graph w/r to 60-second window\n",
    "- __Store graph__\n",
    "    - Dictionary\n",
    "        - Key: Each vertex\n",
    "        - Value: List of all connected vertices\n",
    "    - Linked list\n",
    "- Calculate median edges\n",
    "- Output list of median degree of a vertex\n",
    "\n",
    "    - update each time new venmo payment appears\n",
    "    - 60-second sliding time window\n",
    "- Unit-testing\n",
    "    - 60-second time window out-of-bounds test\n",
    "    - Bad data test\n",
    "    - Big data test\n",
    "-  Variables\n",
    "    - Graph_dictionary (w/ builtin 60-second connections)\n",
    "    - node_name\n",
    "    - degrees_list\n",
    "    - median_degree_list\n",
    "\n",
    "Notes\n",
    "\n",
    "- Vertices represent venmo users\n",
    "- Edges represent when one user pays another user\n",
    "- Node degree is the number of cennected neighboring nodes\n",
    "- Medean node degree is the middle value of all of the degrees in the graph\n",
    "\n",
    "The degree of each node is defined as the number of connected neighboring nodes. The median degree is the middle value of all of the degrees in the graph.\n",
    "\n",
    "Because this payment now has the latest timestamp of 2016-04-07T03:35:02Z, we must add it to our graph while pruning the nodes and edges that fall outside of the 60-second-window (i.e., edge between Maryann-Berry and Ying-Mo must be removed)\n",
    "\n",
    "----\n",
    "### Time stamps | Datetime\n",
    "\n",
    "- [Datetime Timestamps](https://pymotw.com/2/datetime/)\n",
    "\n",
    "----\n",
    "### Network graphs\n",
    "\n",
    "- [NetworkX](http://www.cl.cam.ac.uk/~cm542/teaching/2011/stna-pdfs/stna-lecture11.pdf)\n"
   ]
  },
  {
   "cell_type": "code",
   "execution_count": 108,
   "metadata": {
    "collapsed": true
   },
   "outputs": [],
   "source": [
    "import json \n",
    "import networkx as nx\n",
    "\n",
    "filename    = './data-gen/venmo-trans.txt'\n",
    "\n",
    "venmo_graph = nx.Graph() # create empty network graph\n",
    "\n",
    "# each JSON is small, there's no need in iterative processing\n",
    "with open(filename, 'r') as json_file:\n",
    "    for line in json_file:\n",
    "        data = json.loads(line)\n",
    "        \n",
    "        # Convert date-string to datetime object\n",
    "        data['created_time'] = datetime.strptime(  data['created_time'] \\\n",
    "                                                 , date_format)\n",
    "        \n",
    "        # Add edge + time-info to graph\n",
    "        venmo_graph.add_edge(  data['actor'] \\\n",
    "                             , data['target']\\\n",
    "                             , time = data['created_time'])\n",
    "\n",
    "        "
   ]
  },
  {
   "cell_type": "code",
   "execution_count": 117,
   "metadata": {
    "collapsed": false
   },
   "outputs": [
    {
     "name": "stdout",
     "output_type": "stream",
     "text": [
      "Edges: 1613\n",
      "Nodes: 932\n",
      "Avg Degree: 1.73068669527897\n"
     ]
    }
   ],
   "source": [
    "print('Edges: ' + str(venmo_graph.number_of_edges()))\n",
    "print('Nodes: ' + str(venmo_graph.number_of_nodes()))\n",
    "print('Avg Degree: ' + str(venmo_graph.number_of_edges() / \\\n",
    "                           venmo_graph.number_of_nodes()))"
   ]
  },
  {
   "cell_type": "code",
   "execution_count": 119,
   "metadata": {
    "collapsed": false
   },
   "outputs": [
    {
     "data": {
      "text/plain": [
       "932"
      ]
     },
     "execution_count": 119,
     "metadata": {},
     "output_type": "execute_result"
    }
   ],
   "source": [
    "venmo_graph.order()"
   ]
  },
  {
   "cell_type": "markdown",
   "metadata": {},
   "source": [
    "## Import JSON data"
   ]
  },
  {
   "cell_type": "code",
   "execution_count": 49,
   "metadata": {
    "collapsed": false
   },
   "outputs": [],
   "source": [
    "# each JSON is small, there's no need in iterative processing\n",
    "filename = './data-gen/venmo-trans.txt'\n",
    "import json \n",
    "with open(filename, 'r') as json_file:\n",
    "    for line in json_file:\n",
    "        data = json.loads(line)"
   ]
  },
  {
   "cell_type": "code",
   "execution_count": 50,
   "metadata": {
    "collapsed": false
   },
   "outputs": [
    {
     "data": {
      "text/plain": [
       "{'actor': 'Lizzie-Friend',\n",
       " 'created_time': datetime.datetime(2016, 3, 29, 6, 4, 49),\n",
       " 'target': 'Rachelmanning_'}"
      ]
     },
     "execution_count": 50,
     "metadata": {},
     "output_type": "execute_result"
    }
   ],
   "source": [
    "data"
   ]
  },
  {
   "cell_type": "code",
   "execution_count": 23,
   "metadata": {
    "collapsed": false
   },
   "outputs": [
    {
     "data": {
      "text/plain": [
       "dict"
      ]
     },
     "execution_count": 23,
     "metadata": {},
     "output_type": "execute_result"
    }
   ],
   "source": [
    "type(data)"
   ]
  },
  {
   "cell_type": "code",
   "execution_count": 21,
   "metadata": {
    "collapsed": false
   },
   "outputs": [
    {
     "data": {
      "text/plain": [
       "'Lizzie-Friend'"
      ]
     },
     "execution_count": 21,
     "metadata": {},
     "output_type": "execute_result"
    }
   ],
   "source": [
    "data['actor']"
   ]
  },
  {
   "cell_type": "code",
   "execution_count": 48,
   "metadata": {
    "collapsed": false
   },
   "outputs": [
    {
     "data": {
      "text/plain": [
       "datetime.datetime(2016, 3, 29, 6, 4, 49)"
      ]
     },
     "execution_count": 48,
     "metadata": {},
     "output_type": "execute_result"
    }
   ],
   "source": [
    "data['created_time']"
   ]
  },
  {
   "cell_type": "code",
   "execution_count": 20,
   "metadata": {
    "collapsed": false
   },
   "outputs": [
    {
     "data": {
      "text/plain": [
       "'Rachelmanning_'"
      ]
     },
     "execution_count": 20,
     "metadata": {},
     "output_type": "execute_result"
    }
   ],
   "source": [
    "data['target']"
   ]
  },
  {
   "cell_type": "markdown",
   "metadata": {},
   "source": [
    "## Convert date string into datetime object"
   ]
  },
  {
   "cell_type": "code",
   "execution_count": 43,
   "metadata": {
    "collapsed": false
   },
   "outputs": [],
   "source": [
    "# Convert date string to datetime obj\n",
    "from datetime import datetime\n",
    "\n",
    "date_format = '%Y-%m-%dT%H:%M:%SZ'\n",
    "date = datetime.strptime(data['created_time'], date_format)"
   ]
  },
  {
   "cell_type": "code",
   "execution_count": 44,
   "metadata": {
    "collapsed": false
   },
   "outputs": [
    {
     "data": {
      "text/plain": [
       "datetime.timedelta(0)"
      ]
     },
     "execution_count": 44,
     "metadata": {},
     "output_type": "execute_result"
    }
   ],
   "source": [
    "date-date"
   ]
  },
  {
   "cell_type": "code",
   "execution_count": 47,
   "metadata": {
    "collapsed": true
   },
   "outputs": [],
   "source": [
    "data['created_time'] = datetime.strptime(data['created_time'], date_format)"
   ]
  },
  {
   "cell_type": "markdown",
   "metadata": {},
   "source": [
    "## NetworkX sandbox"
   ]
  },
  {
   "cell_type": "code",
   "execution_count": 72,
   "metadata": {
    "collapsed": true
   },
   "outputs": [],
   "source": [
    "import networkx as nx\n",
    "\n",
    "g = nx.Graph() # create empty graph\n",
    "g.add_edge(data['actor'], data['target'], time=data['created_time'])"
   ]
  },
  {
   "cell_type": "code",
   "execution_count": 73,
   "metadata": {
    "collapsed": false
   },
   "outputs": [
    {
     "data": {
      "text/plain": [
       "1"
      ]
     },
     "execution_count": 73,
     "metadata": {},
     "output_type": "execute_result"
    }
   ],
   "source": [
    "g.number_of_edges()"
   ]
  },
  {
   "cell_type": "code",
   "execution_count": 74,
   "metadata": {
    "collapsed": false
   },
   "outputs": [
    {
     "data": {
      "text/plain": [
       "2"
      ]
     },
     "execution_count": 74,
     "metadata": {},
     "output_type": "execute_result"
    }
   ],
   "source": [
    "g.number_of_nodes()"
   ]
  },
  {
   "cell_type": "code",
   "execution_count": 75,
   "metadata": {
    "collapsed": false
   },
   "outputs": [
    {
     "data": {
      "text/plain": [
       "['Rachelmanning_', 'Lizzie-Friend']"
      ]
     },
     "execution_count": 75,
     "metadata": {},
     "output_type": "execute_result"
    }
   ],
   "source": [
    "g.nodes()"
   ]
  },
  {
   "cell_type": "code",
   "execution_count": 82,
   "metadata": {
    "collapsed": false
   },
   "outputs": [
    {
     "data": {
      "text/plain": [
       "[('Rachelmanning_', 'Lizzie-Friend')]"
      ]
     },
     "execution_count": 82,
     "metadata": {},
     "output_type": "execute_result"
    }
   ],
   "source": [
    "g.edges()"
   ]
  },
  {
   "cell_type": "code",
   "execution_count": 77,
   "metadata": {
    "collapsed": false
   },
   "outputs": [
    {
     "data": {
      "text/plain": [
       "[1, 1]"
      ]
     },
     "execution_count": 77,
     "metadata": {},
     "output_type": "execute_result"
    }
   ],
   "source": [
    "list((g.degree()).values())  # list of degrees"
   ]
  },
  {
   "cell_type": "code",
   "execution_count": 83,
   "metadata": {
    "collapsed": false
   },
   "outputs": [
    {
     "data": {
      "text/plain": [
       "datetime.datetime(2016, 3, 29, 6, 4, 49)"
      ]
     },
     "execution_count": 83,
     "metadata": {},
     "output_type": "execute_result"
    }
   ],
   "source": [
    "g[data['actor']][data['target']]['time'] # edge 'time' "
   ]
  },
  {
   "cell_type": "code",
   "execution_count": 84,
   "metadata": {
    "collapsed": false
   },
   "outputs": [
    {
     "data": {
      "text/plain": [
       "{'time': datetime.datetime(2016, 3, 29, 6, 4, 49)}"
      ]
     },
     "execution_count": 84,
     "metadata": {},
     "output_type": "execute_result"
    }
   ],
   "source": [
    "g[data['actor']][data['target']]"
   ]
  },
  {
   "cell_type": "code",
   "execution_count": null,
   "metadata": {
    "collapsed": true
   },
   "outputs": [],
   "source": []
  }
 ],
 "metadata": {
  "kernelspec": {
   "display_name": "Python 3",
   "language": "python",
   "name": "python3"
  },
  "language_info": {
   "codemirror_mode": {
    "name": "ipython",
    "version": 3
   },
   "file_extension": ".py",
   "mimetype": "text/x-python",
   "name": "python",
   "nbconvert_exporter": "python",
   "pygments_lexer": "ipython3",
   "version": "3.5.0"
  }
 },
 "nbformat": 4,
 "nbformat_minor": 0
}
